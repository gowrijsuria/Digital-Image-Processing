{
 "cells": [
  {
   "cell_type": "code",
   "execution_count": 31,
   "metadata": {},
   "outputs": [
    {
     "name": "stdout",
     "output_type": "stream",
     "text": [
      "0\n",
      "[[0 0 0 ... 0 0 0]\n",
      " [0 0 0 ... 0 0 0]\n",
      " [0 0 0 ... 0 0 0]\n",
      " ...\n",
      " [0 0 0 ... 0 0 0]\n",
      " [0 0 0 ... 0 0 0]\n",
      " [0 0 0 ... 0 0 0]]\n",
      "heloo\n",
      "hi\n"
     ]
    },
    {
     "data": {
      "text/plain": [
       "<matplotlib.image.AxesImage at 0x117cb61d0>"
      ]
     },
     "execution_count": 31,
     "metadata": {},
     "output_type": "execute_result"
    },
    {
     "data": {
      "image/png": "[encoded data removed]",
      "text/plain": [
       "<Figure size 432x288 with 1 Axes>"
      ]
     },
     "metadata": {
      "needs_background": "light"
     },
     "output_type": "display_data"
    }
   ],
   "source": [
    "import cv2 \n",
    "import matplotlib.pyplot as plt \n",
    "import numpy as np \n",
    "\n",
    "def xnor(a,b):\n",
    "    if a == b:\n",
    "        return 1\n",
    "    return 0\n",
    "\n",
    "# def filt(im,s):\n",
    "#     final = np.zeros((h,w))\n",
    "#     sel_region = np.zeros((3,3))\n",
    "#     for i in range(1,h-1):\n",
    "#         for j in range(1,w-1):\n",
    "#             center_x = i\n",
    "#             center_y = j\n",
    "#             sel_region = im[center_x-1:center_x+1,center_y-1:center_y+1]\n",
    "#             temp = np.zeros((3,3))\n",
    "#             anding = 1\n",
    "#             for p in range(0,2):\n",
    "#                 for q in range(0,2):\n",
    "#                     if sel_region[p,q] == -1:\n",
    "#                         temp[p,q] = 1\n",
    "#                     else:\n",
    "#                         temp[p,q] = xnor(sel_region[p,q],s[p,q]) \n",
    "#                 anding = anding and temp[p,q]\n",
    "#                 if anding == 0:\n",
    "#                     break\n",
    "#             final[i,j] = anding        \n",
    "#     return final        \n",
    "\n",
    "def filtchk(sel_region,s):\n",
    "    y = True \n",
    "    for p in range(0,2):\n",
    "        for q in range(0,2):\n",
    "            if s[p,q] == -1:\n",
    "                continue\n",
    "            else: \n",
    "                if s[p,q] != sel_region[p,q]:\n",
    "                    y = False\n",
    "                    break\n",
    "            if ~y:\n",
    "                break\n",
    "    return y                \n",
    "        \n",
    "def filt(im,s):\n",
    "    final = im\n",
    "    sel_region = np.zeros((3,3))\n",
    "    for i in range(1,h-1):\n",
    "        for j in range(1,w-1):\n",
    "            center_x = i\n",
    "            center_y = j\n",
    "            sel_region = im[center_x-1:center_x+1,center_y-1:center_y+1]\n",
    "            temp = np.zeros((3,3))\n",
    "            if filtchk(sel_region,s):\n",
    "                final[i,j] = 0        \n",
    "    return final        \n",
    "    \n",
    "\n",
    "\n",
    "def skeletonization(im):\n",
    "    i=1\n",
    "    while True:\n",
    "        temp = im \n",
    "        im = filt(filt(im,s1),s2)\n",
    "        im = filt(filt(im,s1_90),s2_90)\n",
    "        im = filt(filt(im,s1_180),s2_180)\n",
    "        im = filt(filt(im,s1_270),s2_270)\n",
    "        print('heloo')\n",
    "        difference = cv2.subtract(temp,im)    \n",
    "        result = not np.any(difference)\n",
    "        if result == True:\n",
    "            print('hi')\n",
    "            break\n",
    "    return im        \n",
    "            \n",
    "fp = cv2.imread('../input/fp.jpg',0)\n",
    "\n",
    "h = fp.shape[0]\n",
    "w = fp.shape[1]\n",
    "thresh = 127\n",
    "im_bw = cv2.threshold(fp, thresh, 255, cv2.THRESH_BINARY)[1]\n",
    "inv = (im_bw == 0).astype(int)\n",
    "\n",
    "print(np.amin(inv))\n",
    "print(inv)\n",
    "plt.figure()\n",
    "plt.imshow(inv,'gray')\n",
    "\n",
    "s1 = np.array([[0,0,0],[-1,1,-1],[1,1,1]],dtype='int')\n",
    "s2 = np.array([[-1,0,0],[1,1,0],[-1,1,-1]],dtype='int')\n",
    "\n",
    "s1_90 = np.rot90(s1,1)\n",
    "s2_90 = np.rot90(s2,1)\n",
    "s1_180 = np.rot90(s1,2)\n",
    "s2_180 = np.rot90(s2,2)\n",
    "s1_270 = np.rot90(s1,3)\n",
    "s2_270 = np.rot90(s2,3)\n",
    "\n",
    "\n",
    "\n",
    "final = skeletonization(inv)\n",
    "plt.imshow(final)"
   ]
  },
  {
   "cell_type": "code",
   "execution_count": 6,
   "metadata": {},
   "outputs": [],
   "source": [
    "import cv2 \n",
    "import matplotlib.pyplot as plt \n",
    "import numpy as np \n",
    "\n",
    "img = cv2.imread('../input/fp.jpg',0)\n",
    "size = np.size(img)\n",
    "skel = np.zeros(img.shape,np.uint8)\n",
    " \n",
    "ret,img = cv2.threshold(img,127,255,0)\n",
    "s1 = np.array([[0,0,0],[-1,1,-1],[1,1,1]],dtype='int')\n",
    "s2 = np.array([[-1,0,0],[1,1,0],[-1,1,-1]],dtype='int')\n",
    "s1_90 = np.rot90(s1,1)\n",
    "s2_90 = np.rot90(s2,1)\n",
    "s1_180 = np.rot90(s1,2)\n",
    "s2_180 = np.rot90(s2,2)\n",
    "s1_270 = np.rot90(s1,3)\n",
    "s2_270 = np.rot90(s2,3)\n",
    "\n",
    "element = cv2.getStructuringElement(cv2.MORPH_CROSS,(3,3))\n",
    "done = False\n",
    " \n",
    "# while( not done):\n",
    "#     eroded = cv2.erode(img,s1)\n",
    "#     temp = cv2.dilate(eroded,s1)\n",
    "#     temp = cv2.subtract(img,temp)\n",
    "#     skel = cv2.bitwise_or(skel,temp)\n",
    "#     img = eroded.copy()\n",
    "     \n",
    "#     zeros = size - cv2.countNonZero(img)\n",
    "#     if zeros==size:\n",
    "#         done = True\n",
    "        \n",
    "# plt.imshow(~(skel),'gray')        "
   ]
  },
  {
   "cell_type": "code",
   "execution_count": 29,
   "metadata": {},
   "outputs": [
    {
     "name": "stdout",
     "output_type": "stream",
     "text": [
      "True\n"
     ]
    },
    {
     "ename": "TypeError",
     "evalue": "unsupported operand type(s) for -: 'list' and 'list'",
     "output_type": "error",
     "traceback": [
      "\u001b[0;31m---------------------------------------------------------------------------\u001b[0m",
      "\u001b[0;31mTypeError\u001b[0m                                 Traceback (most recent call last)",
      "\u001b[0;32m<ipython-input-29-d953b080bb96>\u001b[0m in \u001b[0;36m<module>\u001b[0;34m\u001b[0m\n\u001b[1;32m      2\u001b[0m \u001b[0mp\u001b[0m \u001b[0;34m=\u001b[0m \u001b[0;34m[\u001b[0m\u001b[0;34m[\u001b[0m\u001b[0;36m1\u001b[0m\u001b[0;34m,\u001b[0m\u001b[0;36m1\u001b[0m\u001b[0;34m,\u001b[0m\u001b[0;36m1\u001b[0m\u001b[0;34m]\u001b[0m\u001b[0;34m,\u001b[0m\u001b[0;34m[\u001b[0m\u001b[0;36m1\u001b[0m\u001b[0;34m,\u001b[0m\u001b[0;36m1\u001b[0m\u001b[0;34m,\u001b[0m\u001b[0;36m1\u001b[0m\u001b[0;34m]\u001b[0m\u001b[0;34m]\u001b[0m\u001b[0;34m\u001b[0m\u001b[0;34m\u001b[0m\u001b[0m\n\u001b[1;32m      3\u001b[0m \u001b[0mprint\u001b[0m\u001b[0;34m(\u001b[0m\u001b[0;34m(\u001b[0m\u001b[0ma\u001b[0m\u001b[0;34m==\u001b[0m\u001b[0mp\u001b[0m\u001b[0;34m)\u001b[0m\u001b[0;34m)\u001b[0m\u001b[0;34m\u001b[0m\u001b[0;34m\u001b[0m\u001b[0m\n\u001b[0;32m----> 4\u001b[0;31m \u001b[0;32mif\u001b[0m \u001b[0;34m(\u001b[0m\u001b[0ma\u001b[0m\u001b[0;34m-\u001b[0m\u001b[0mp\u001b[0m\u001b[0;34m)\u001b[0m\u001b[0;34m.\u001b[0m\u001b[0mall\u001b[0m\u001b[0;34m==\u001b[0m\u001b[0;36m0\u001b[0m\u001b[0;34m:\u001b[0m\u001b[0;34m\u001b[0m\u001b[0;34m\u001b[0m\u001b[0m\n\u001b[0m\u001b[1;32m      5\u001b[0m     \u001b[0mprint\u001b[0m\u001b[0;34m(\u001b[0m\u001b[0;34m'hi'\u001b[0m\u001b[0;34m)\u001b[0m\u001b[0;34m\u001b[0m\u001b[0;34m\u001b[0m\u001b[0m\n",
      "\u001b[0;31mTypeError\u001b[0m: unsupported operand type(s) for -: 'list' and 'list'"
     ]
    }
   ],
   "source": [
    "a = [[1,1,1],[1,1,1]]\n",
    "p = [[1,1,1],[1,1,1]]\n",
    "print((a==p))\n",
    "if (a-p).all==0:\n",
    "    print('hi')"
   ]
  },
  {
   "cell_type": "code",
   "execution_count": null,
   "metadata": {},
   "outputs": [],
   "source": []
  }
 ],
 "metadata": {
  "kernelspec": {
   "display_name": "Python 3",
   "language": "python",
   "name": "python3"
  }
 },
 "nbformat": 4,
 "nbformat_minor": 2
}
